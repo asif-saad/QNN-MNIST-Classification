{
 "cells": [
  {
   "cell_type": "code",
   "execution_count": 4,
   "metadata": {},
   "outputs": [
    {
     "name": "stdout",
     "output_type": "stream",
     "text": [
      "Opening: https://platform.classiq.io/circuit/4d25b610-1f17-4e36-9909-87894ba6bd5f?version=0.32.1\n"
     ]
    }
   ],
   "source": [
    "from classiq import Model, synthesize\n",
    "from classiq.builtin_functions import RZZGate\n",
    "from classiq import show\n",
    "\n",
    "model = Model()\n",
    "rzz_params = RZZGate(theta=0.5)\n",
    "model.RZZGate(rzz_params)\n",
    "quantum_program = synthesize(model.get_model())\n",
    "show(quantum_program)"
   ]
  },
  {
   "cell_type": "code",
   "execution_count": null,
   "metadata": {},
   "outputs": [],
   "source": []
  }
 ],
 "metadata": {
  "kernelspec": {
   "display_name": "base",
   "language": "python",
   "name": "python3"
  },
  "language_info": {
   "codemirror_mode": {
    "name": "ipython",
    "version": 3
   },
   "file_extension": ".py",
   "mimetype": "text/x-python",
   "name": "python",
   "nbconvert_exporter": "python",
   "pygments_lexer": "ipython3",
   "version": "3.11.5"
  }
 },
 "nbformat": 4,
 "nbformat_minor": 2
}
