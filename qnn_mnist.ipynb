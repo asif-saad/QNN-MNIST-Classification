{
 "cells": [
  {
   "cell_type": "markdown",
   "metadata": {},
   "source": [
    "#### Imports"
   ]
  },
  {
   "cell_type": "code",
   "execution_count": 16,
   "metadata": {},
   "outputs": [
    {
     "name": "stderr",
     "output_type": "stream",
     "text": [
      "/home/devilkillerag/document/QNN-MNIST-Classification/qnn/lib/python3.11/site-packages/classiq/_internals/authentication/token_manager.py:82: UserWarning: Device is already registered.\n",
      "Generating a new refresh token should only be done if the current refresh token is compromised.\n",
      "To do so, set the overwrite parameter to true\n",
      "  warnings.warn(\n"
     ]
    }
   ],
   "source": [
    "import torch\n",
    "import torchvision.transforms as transforms\n",
    "from torch import nn\n",
    "import matplotlib.pyplot as plt\n",
    "from PIL import Image\n",
    "import numpy as np\n",
    "from typing import Dict\n",
    "\n",
    "import classiq\n",
    "from classiq import Model, QReg, RX, RY, RZ, synthesize\n",
    "from classiq.builtin_functions import HardwareEfficientAnsatz\n",
    "classiq.authenticate()"
   ]
  },
  {
   "cell_type": "code",
   "execution_count": 5,
   "metadata": {},
   "outputs": [],
   "source": [
    "_NUM_QUBITS = 4\n",
    "_CONNECTIVITY_MAP = \"circular\""
   ]
  },
  {
   "cell_type": "markdown",
   "metadata": {},
   "source": [
    "#### Classical Layer for Image Commpression:\n",
    "The input MNIST images are all 28 × 28. This Classical Layer will firstly center-crop them to 24 × 24 and\n",
    "then down-sample them to 4 × 4 for MNIST."
   ]
  },
  {
   "cell_type": "code",
   "execution_count": 18,
   "metadata": {},
   "outputs": [],
   "source": [
    "class ClassicalCompressionLayer(nn.Module):\n",
    "    def __init__(self):\n",
    "        super(ClassicalCompressionLayer, self).__init__()\n",
    "        self.center_crop = transforms.CenterCrop((24, 24))\n",
    "        self.down_sample = transforms.Resize((4, 4))\n",
    "        self.flatten = nn.Flatten()\n",
    "        \n",
    "    def forward(self, x):\n",
    "        x = self.center_crop(x)\n",
    "        x = self.down_sample(x)\n",
    "        x = self.flatten(x)\n",
    "        return x"
   ]
  },
  {
   "cell_type": "markdown",
   "metadata": {},
   "source": [
    "#### Quantum Layer for Encoding \n",
    "The output of Classical Compression Layer is encoded by this quantum layer into a quantum circuit. We use Angle encoding to encode 4 pixels per qubit using RX, RY, RZ, and RX gate on each qubit."
   ]
  },
  {
   "cell_type": "code",
   "execution_count": 19,
   "metadata": {},
   "outputs": [],
   "source": [
    "class QuantumEncodingLayer(Model):\n",
    "    def __init__(self):\n",
    "        super().__init__()\n",
    "        \n",
    "    def encode_pixels(self, pixel_values: torch.Tensor) -> Dict[str, QReg]:\n",
    "        # Split pixel values into groups of 4\n",
    "        pixel_groups = pixel_values.split(4)\n",
    "        \n",
    "        # Initialize dictionary to store qubit outputs\n",
    "        qubit_outputs = {}\n",
    "        \n",
    "        # Encode each group of 4 pixels into angles for RX, RY, RZ, RX gates\n",
    "        for i, pixel_group in enumerate(pixel_groups):\n",
    "            rx_angle = pixel_group[0] * (2 * torch.pi / 255)\n",
    "            ry_angle = pixel_group[1] * (2 * torch.pi / 255)\n",
    "            rz_angle = pixel_group[2] * (2 * torch.pi / 255)\n",
    "            rx2_angle = pixel_group[3] * (2 * torch.pi / 255)\n",
    "            \n",
    "            # Apply gates to corresponding qubit\n",
    "            qubit_outputs[f\"qubit_{i}\"] = RX(rx_angle) & RY(ry_angle) & RZ(rz_angle) & RX(rx2_angle)\n",
    "            \n",
    "        return qubit_outputs"
   ]
  },
  {
   "cell_type": "markdown",
   "metadata": {},
   "source": [
    "#### Quantum Layer for Entanglement "
   ]
  },
  {
   "cell_type": "code",
   "execution_count": 20,
   "metadata": {},
   "outputs": [],
   "source": [
    "class QuantumEntanglementLayer(Model):\n",
    "    def __init__(self):\n",
    "        super().__init__()\n",
    "\n",
    "    def add_entanglement_layer(self) -> Dict[str, QReg]:\n",
    "        hwea_params = HardwareEfficientAnsatz(\n",
    "            num_qubits=_NUM_QUBITS,\n",
    "            connectivity_map=_CONNECTIVITY_MAP,\n",
    "            one_qubit_gates=[],\n",
    "            two_qubit_gates=[\"rzz, rxx, rzx, cz\"],\n",
    "        )\n",
    "        return self.HardwareEfficientAnsatz(hwea_params)"
   ]
  },
  {
   "cell_type": "markdown",
   "metadata": {},
   "source": [
    "#### Hybrid Quantum Neural Network"
   ]
  },
  {
   "cell_type": "code",
   "execution_count": 21,
   "metadata": {},
   "outputs": [],
   "source": [
    "class HybridQuantumNeuralNetwork(Model):\n",
    "    def __init__(self):\n",
    "        super().__init__()\n",
    "\n",
    "        # Instantiate Layer\n",
    "        self.classical_compression_layer = ClassicalCompressionLayer()\n",
    "        self.encoding_layer = QuantumEncodingLayer()\n",
    "        self.entanglement_layer = QuantumEntanglementLayer()\n",
    "\n",
    "        # Import Data\n",
    "        \n",
    "    \n",
    "        # Add Encoding Layer\n",
    "        encoding_out = self.encoding_layer.encode_pixels()\n",
    "\n",
    "        # Add Entanglement Layer\n",
    "        entanglement_out = self.entanglement_layer.add_rzz_layer()\n",
    "\n",
    "        # Add layers to the model\n",
    "        self.add(encoding_out, entanglement_out)\n",
    "\n",
    "    def forward(self, x):\n",
    "        # Classical Compression\n",
    "        compressed_data = self.classical_compression_layer(x)\n",
    "\n",
    "        # Quantum Encoding\n",
    "        encoding_result = self.encoding_layer(compressed_data)\n",
    "\n",
    "        # Quantum Entanglement\n",
    "        entanglement_result = self.entanglement_layer()\n",
    "\n",
    "        # Concatenate quantum and classical outputs\n",
    "        output = self.concatenate(\n",
    "            [encoding_result, entanglement_result, compressed_data]\n",
    "        )\n",
    "\n",
    "        return output"
   ]
  },
  {
   "cell_type": "code",
   "execution_count": 22,
   "metadata": {},
   "outputs": [
    {
     "ename": "TypeError",
     "evalue": "'QuantumEncodingLayer' object is not callable",
     "output_type": "error",
     "traceback": [
      "\u001b[0;31m---------------------------------------------------------------------------\u001b[0m",
      "\u001b[0;31mTypeError\u001b[0m                                 Traceback (most recent call last)",
      "\u001b[1;32m/home/devilkillerag/document/QNN-MNIST-Classification/qnn_mnist.ipynb Cell 12\u001b[0m line \u001b[0;36m1\n\u001b[0;32m----> <a href='vscode-notebook-cell://wsl%2Bubuntu-22.04/home/devilkillerag/document/QNN-MNIST-Classification/qnn_mnist.ipynb#X16sdnNjb2RlLXJlbW90ZQ%3D%3D?line=0'>1</a>\u001b[0m hybrid_model \u001b[39m=\u001b[39m HybridQuantumNeuralNetwork()\n\u001b[1;32m      <a href='vscode-notebook-cell://wsl%2Bubuntu-22.04/home/devilkillerag/document/QNN-MNIST-Classification/qnn_mnist.ipynb#X16sdnNjb2RlLXJlbW90ZQ%3D%3D?line=1'>2</a>\u001b[0m quantum_program \u001b[39m=\u001b[39m synthesize(hybrid_model\u001b[39m.\u001b[39mget_model())\n",
      "\u001b[1;32m/home/devilkillerag/document/QNN-MNIST-Classification/qnn_mnist.ipynb Cell 12\u001b[0m line \u001b[0;36m1\n\u001b[1;32m      <a href='vscode-notebook-cell://wsl%2Bubuntu-22.04/home/devilkillerag/document/QNN-MNIST-Classification/qnn_mnist.ipynb#X16sdnNjb2RlLXJlbW90ZQ%3D%3D?line=7'>8</a>\u001b[0m \u001b[39mself\u001b[39m\u001b[39m.\u001b[39mentanglement_layer \u001b[39m=\u001b[39m QuantumEntanglementLayer()\n\u001b[1;32m     <a href='vscode-notebook-cell://wsl%2Bubuntu-22.04/home/devilkillerag/document/QNN-MNIST-Classification/qnn_mnist.ipynb#X16sdnNjb2RlLXJlbW90ZQ%3D%3D?line=9'>10</a>\u001b[0m \u001b[39m# Add Encoding Layer\u001b[39;00m\n\u001b[0;32m---> <a href='vscode-notebook-cell://wsl%2Bubuntu-22.04/home/devilkillerag/document/QNN-MNIST-Classification/qnn_mnist.ipynb#X16sdnNjb2RlLXJlbW90ZQ%3D%3D?line=10'>11</a>\u001b[0m encoding_out \u001b[39m=\u001b[39m \u001b[39mself\u001b[39;49m\u001b[39m.\u001b[39;49mencoding_layer()\n\u001b[1;32m     <a href='vscode-notebook-cell://wsl%2Bubuntu-22.04/home/devilkillerag/document/QNN-MNIST-Classification/qnn_mnist.ipynb#X16sdnNjb2RlLXJlbW90ZQ%3D%3D?line=12'>13</a>\u001b[0m \u001b[39m# Add Entanglement Layer\u001b[39;00m\n\u001b[1;32m     <a href='vscode-notebook-cell://wsl%2Bubuntu-22.04/home/devilkillerag/document/QNN-MNIST-Classification/qnn_mnist.ipynb#X16sdnNjb2RlLXJlbW90ZQ%3D%3D?line=13'>14</a>\u001b[0m entanglement_out \u001b[39m=\u001b[39m \u001b[39mself\u001b[39m\u001b[39m.\u001b[39mentanglement_layer\u001b[39m.\u001b[39madd_rzz_layer()\n",
      "\u001b[0;31mTypeError\u001b[0m: 'QuantumEncodingLayer' object is not callable"
     ]
    }
   ],
   "source": [
    "hybrid_model = HybridQuantumNeuralNetwork()\n",
    "quantum_program = synthesize(hybrid_model.get_model())"
   ]
  },
  {
   "cell_type": "code",
   "execution_count": null,
   "metadata": {},
   "outputs": [],
   "source": []
  }
 ],
 "metadata": {
  "kernelspec": {
   "display_name": "qnn",
   "language": "python",
   "name": "python3"
  },
  "language_info": {
   "codemirror_mode": {
    "name": "ipython",
    "version": 3
   },
   "file_extension": ".py",
   "mimetype": "text/x-python",
   "name": "python",
   "nbconvert_exporter": "python",
   "pygments_lexer": "ipython3",
   "version": "3.11.6"
  }
 },
 "nbformat": 4,
 "nbformat_minor": 2
}
