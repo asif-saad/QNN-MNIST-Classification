{
 "cells": [
  {
   "cell_type": "markdown",
   "metadata": {},
   "source": [
    "#### Imports"
   ]
  },
  {
   "cell_type": "code",
   "execution_count": 1,
   "metadata": {},
   "outputs": [
    {
     "name": "stderr",
     "output_type": "stream",
     "text": [
      "The current version of 'classiq' has been deprecated, and will not be supported as of 2024-01-04. Please run \"pip install -U classiq\" to upgrade the classiq SDK to the latest version.\n",
      "f:\\source\\Anaconda\\Lib\\site-packages\\classiq\\_internals\\authentication\\token_manager.py:82: UserWarning: Device is already registered.\n",
      "Generating a new refresh token should only be done if the current refresh token is compromised.\n",
      "To do so, set the overwrite parameter to true\n",
      "  warnings.warn(\n"
     ]
    }
   ],
   "source": [
    "import torch\n",
    "import classiq\n",
    "\n",
    "import torch.nn as nn\n",
    "import torch.optim as optim\n",
    "from torch.utils.data import Dataset, DataLoader\n",
    "import torch.nn.functional as F\n",
    "from classiq import Model, RegisterUserInput, synthesize, show\n",
    "from typing import Dict\n",
    "from classiq import Model, synthesize, QReg\n",
    "from classiq.builtin_functions import HardwareEfficientAnsatz\n",
    "from classiq.applications.qnn import QLayer\n",
    "from classiq.execution import execute_qnn\n",
    "from classiq.synthesis import SerializedQuantumProgram\n",
    "\n",
    "from classiq.applications.qnn.types import (\n",
    "    MultipleArguments,\n",
    "    SavedResult,\n",
    "    ResultsCollection,\n",
    ")\n",
    "\n",
    "classiq.authenticate()"
   ]
  },
  {
   "cell_type": "code",
   "execution_count": 2,
   "metadata": {},
   "outputs": [],
   "source": [
    "# constants\n",
    "_NUM_QUBITS =  4\n",
    "_REPS = 1\n",
    "_FULLY_CONNECTED_MESH = [[0, 1], [1, 2], [2, 3], [3, 0]]\n",
    "_LEARNING_RATE = 1.0"
   ]
  },
  {
   "cell_type": "markdown",
   "metadata": {},
   "source": [
    "#### Classical Layer for Image Commpression:\n",
    "The input MNIST images are all 28 × 28. This Classical Layer will firstly center-crop them to 24 × 24 and\n",
    "then down-sample them to 4 × 4 for MNIST."
   ]
  },
  {
   "cell_type": "code",
   "execution_count": 3,
   "metadata": {},
   "outputs": [],
   "source": [
    "\n",
    "def classical_compression(self):\n",
    "    self.center_crop = transforms.CenterCrop((24, 24))\n",
    "    self.down_sample = transforms.Resize((4, 4))\n",
    "    self.flatten = nn.Flatten()"
   ]
  },
  {
   "cell_type": "code",
   "execution_count": 4,
   "metadata": {},
   "outputs": [],
   "source": [
    "def add_entanglement(md: Model, prefix: str, in_wire=None) -> Dict[str, QReg]:\n",
    "    if in_wire is not None:\n",
    "        kwargs = { \"in_wires\": { \"IN\": in_wire[\"OUT\"] } }\n",
    "    else: \n",
    "        kwargs = {}\n",
    "    \n",
    "    hwea_params = HardwareEfficientAnsatz(\n",
    "        num_qubits=_NUM_QUBITS,\n",
    "        connectivity_map=_FULLY_CONNECTED_MESH,\n",
    "        reps=_REPS,\n",
    "        one_qubit_gates=[],\n",
    "        two_qubit_gates=[\"rzz\", \"rxx\", \"rzx\"],\n",
    "        parameter_prefix=prefix,\n",
    "    )\n",
    "    \n",
    "    return md.HardwareEfficientAnsatz(hwea_params, **kwargs)"
   ]
  },
  {
   "cell_type": "code",
   "execution_count": 5,
   "metadata": {},
   "outputs": [],
   "source": [
    "model = Model()\n",
    "out1 = add_entanglement(model, \"input_\")\n",
    "out2 = add_entanglement(model, \"weight_\", out1)\n",
    "\n",
    "quantum_program = synthesize(model.get_model())"
   ]
  },
  {
   "cell_type": "code",
   "execution_count": 6,
   "metadata": {},
   "outputs": [],
   "source": [
    "def execute(quantum_program: SerializedQuantumProgram, arguments: MultipleArguments) -> ResultsCollection:\n",
    "    return execute_qnn(quantum_program, arguments)"
   ]
  },
  {
   "cell_type": "code",
   "execution_count": 7,
   "metadata": {},
   "outputs": [],
   "source": [
    "# TODO: MODIFY THIS\n",
    "\n",
    "# Post-process the result, returning a dict:\n",
    "# Note: this function assumes that we only care about\n",
    "#   differentiating a single state (|0>)\n",
    "#   from all the rest of the states.\n",
    "#   In case of a different differentiation, this function should change.\n",
    "def post_process(result: SavedResult) -> torch.Tensor:\n",
    "    \"\"\"\n",
    "    Take in a `SavedResult` with `ExecutionDetails` value type, and return the\n",
    "    probability of measuring |0> which equals the amount of `|0>` measurements\n",
    "    divided by the total amount of measurements.\n",
    "    \"\"\"\n",
    "    counts: dict = result.value.counts\n",
    "    # The probability of measuring |0>\n",
    "    p_zero: float = counts.get(\"0\", 0.0) / sum(counts.values())\n",
    "    return torch.tensor(p_zero)"
   ]
  },
  {
   "cell_type": "code",
   "execution_count": 8,
   "metadata": {},
   "outputs": [],
   "source": [
    "class Net(torch.nn.Module):\n",
    "    def __init__(self, *args, **kwargs) -> None:\n",
    "        super().__init__()\n",
    "        self.qlayer = QLayer(\n",
    "            quantum_program,\n",
    "            execute,\n",
    "            post_process,\n",
    "            *args,\n",
    "            **kwargs\n",
    "        )\n",
    "        \n",
    "    def forward(self, x: torch.Tensor) -> torch.Tensor:\n",
    "        x = self.qlayer(x)\n",
    "        return x"
   ]
  },
  {
   "cell_type": "code",
   "execution_count": 12,
   "metadata": {},
   "outputs": [
    {
     "name": "stdout",
     "output_type": "stream",
     "text": [
      "Opening: https://platform.classiq.io/circuit/586246d3-7e7c-416b-bf62-ca2fcedfb997?version=0.32.1\n"
     ]
    }
   ],
   "source": [
    "model = Net()\n",
    "show(quantum_program)"
   ]
  },
  {
   "cell_type": "markdown",
   "metadata": {},
   "source": [
    "### Data Loading"
   ]
  },
  {
   "cell_type": "code",
   "execution_count": 27,
   "metadata": {},
   "outputs": [],
   "source": [
    "class CTDataset(Dataset):\n",
    "    def __init__(self, filepath):\n",
    "        self.x, self.y = torch.load(filepath)\n",
    "        self.x = self.x / 255.\n",
    "        self.y = F.one_hot(self.y, num_classes=10).to(float)\n",
    "    def __len__(self): \n",
    "        return self.x.shape[0]\n",
    "    def __getitem__(self, ix): \n",
    "        return self.x[ix], self.y[ix]"
   ]
  },
  {
   "cell_type": "code",
   "execution_count": 28,
   "metadata": {},
   "outputs": [],
   "source": [
    "# load dataset\n",
    "train_ds = CTDataset('MNIST_DATASET/processed/training.pt')\n",
    "test_ds = CTDataset('MNIST_DATASET/processed/test.pt')\n",
    "train_dl = DataLoader(train_ds, batch_size=5)\n",
    "\n",
    "# choosing our loss function\n",
    "loss_func = nn.L1Loss()\n",
    "\n",
    "# choosing our optimizer\n",
    "optimizer = optim.SGD(model.parameters(), lr=_LEARNING_RATE)"
   ]
  },
  {
   "cell_type": "code",
   "execution_count": 31,
   "metadata": {},
   "outputs": [],
   "source": [
    "from typing import List\n",
    "\n",
    "from sympy import pi\n",
    "\n",
    "from classiq import (\n",
    "    CX,\n",
    "    RY,\n",
    "    SWAP,\n",
    "    Array,\n",
    "    H,\n",
    "    Input,\n",
    "    Output,\n",
    "    QArray,\n",
    "    QBit,\n",
    "    QFunc,\n",
    "    QParam,\n",
    "    allocate,\n",
    "    control,\n",
    "    create_model,\n",
    "    join,\n",
    "    repeat,\n",
    "    split,\n",
    ")"
   ]
  },
  {
   "cell_type": "code",
   "execution_count": 32,
   "metadata": {},
   "outputs": [],
   "source": [
    "@QFunc\n",
    "def angle_encoding(\n",
    "    exe_params: QParam[List[float]], qbv: Output[QArray[QBit, \"len(exe_params)\"]]\n",
    ") -> None:\n",
    "    allocate(exe_params.len(), qbv)\n",
    "    repeat(\n",
    "        count=exe_params.len(),\n",
    "        iteration=lambda index: RY(pi * exe_params[index], qbv[index]),\n",
    "    )"
   ]
  },
  {
   "cell_type": "code",
   "execution_count": 15,
   "metadata": {},
   "outputs": [
    {
     "name": "stdout",
     "output_type": "stream",
     "text": [
      "Opening: https://platform.classiq.io/circuit/d8ba7220-0bef-47a7-86e3-6112e7ecdd08?version=0.32.1\n"
     ]
    }
   ],
   "source": [
    "from sympy import pi\n",
    "from classiq import QFunc, QParam, QBit, H, PHASE, allocate\n",
    "from classiq import create_model, synthesize, show\n",
    "\n",
    "\n",
    "@QFunc\n",
    "def foo(n: QParam[int], qv: QBit) -> None:\n",
    "    H(qv)\n",
    "    for i in range(3):  # cannot use 'n' here as it is not an int\n",
    "        PHASE(theta=(i / n) * pi, target=qv)\n",
    "\n",
    "\n",
    "@QFunc\n",
    "def main() -> None:\n",
    "    qv1 = QBit(\"qv1\")\n",
    "    allocate(1, qv1)\n",
    "    foo(1, qv1)\n",
    "    qv2 = QBit(\"qv2\")\n",
    "    allocate(1, qv2)\n",
    "    foo(2, qv2)\n",
    "\n",
    "\n",
    "model = create_model(main)\n",
    "qprog = synthesize(model)\n",
    "show(qprog)"
   ]
  },
  {
   "cell_type": "code",
   "execution_count": null,
   "metadata": {},
   "outputs": [],
   "source": []
  },
  {
   "cell_type": "code",
   "execution_count": null,
   "metadata": {},
   "outputs": [],
   "source": []
  }
 ],
 "metadata": {
  "kernelspec": {
   "display_name": "qnn",
   "language": "python",
   "name": "python3"
  },
  "language_info": {
   "codemirror_mode": {
    "name": "ipython",
    "version": 3
   },
   "file_extension": ".py",
   "mimetype": "text/x-python",
   "name": "python",
   "nbconvert_exporter": "python",
   "pygments_lexer": "ipython3",
   "version": "3.11.5"
  }
 },
 "nbformat": 4,
 "nbformat_minor": 2
}
